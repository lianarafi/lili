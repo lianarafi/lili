{
 "cells": [
  {
   "cell_type": "markdown",
   "id": "0d35629b",
   "metadata": {},
   "source": [
    "# start"
   ]
  },
  {
   "cell_type": "markdown",
   "id": "cf11ff64",
   "metadata": {},
   "source": [
    "we want to put an emoji or photo to oder image.\n",
    "for this we can get help from differont libraries and now i want to work with the help of the open cv library."
   ]
  },
  {
   "cell_type": "markdown",
   "id": "65635dd6",
   "metadata": {},
   "source": [
    "# install the library"
   ]
  },
  {
   "cell_type": "markdown",
   "id": "382d8a7d",
   "metadata": {},
   "source": [
    "open cv is a profossional library for working with photos and videos. if you have not install this liabrary you can install it with the following command\n"
   ]
  },
  {
   "cell_type": "code",
   "execution_count": null,
   "id": "b9a34742",
   "metadata": {},
   "outputs": [],
   "source": [
    "'pip install opencv'"
   ]
  },
  {
   "cell_type": "markdown",
   "id": "9eb6a363",
   "metadata": {},
   "source": [
    "# loading image"
   ]
  },
  {
   "cell_type": "markdown",
   "id": "629f8f3e",
   "metadata": {},
   "source": [
    "now we want to read our refernce phoro in open cv for this we can use the imshow cammand and we do this for emoji too"
   ]
  },
  {
   "cell_type": "code",
   "execution_count": null,
   "id": "3c9896ea",
   "metadata": {},
   "outputs": [],
   "source": [
    "import cv2"
   ]
  },
  {
   "cell_type": "code",
   "execution_count": null,
   "id": "9be8ab97",
   "metadata": {},
   "outputs": [],
   "source": [
    "\n",
    "image=cv2.imshow(r\"C:\\Users\\Rafie\\Downloads\\lil\\Screenshot_20230804-225520_Chrome.jpg\")\n",
    "\n",
    "emoji=cv2.imshow(r\"C:\\Users\\Rafie\\Downloads\\lil\\Screenshot_20230804-225520_Chrome.jpg\")"
   ]
  },
  {
   "cell_type": "markdown",
   "id": "a1eac10e",
   "metadata": {},
   "source": [
    "# resize image"
   ]
  },
  {
   "cell_type": "markdown",
   "id": "8b5aab4a",
   "metadata": {},
   "source": [
    "now we need to adjust the size of our reference phoro and the emoji photo.we can use the resize command."
   ]
  },
  {
   "cell_type": "code",
   "execution_count": null,
   "id": "4391f3bd",
   "metadata": {},
   "outputs": [],
   "source": [
    "image=cv2.resize(image,(450,600))\n",
    "\n",
    "emoji=cv2.resize(emoji(190,320))"
   ]
  },
  {
   "cell_type": "markdown",
   "id": "a50be02f",
   "metadata": {},
   "source": [
    "# crop your face"
   ]
  },
  {
   "cell_type": "markdown",
   "id": "481d089d",
   "metadata": {},
   "source": [
    "if you want to use the photo and place a part of the photo on the reference photo we need  to crop that part.first we have to draw a rectangle around the points we want and then cropit.we can use the following command for this.\n",
    "\n",
    "now we want to crop around this rectangle wich we do wich the follwing command.\n",
    "\n",
    "\n",
    "and save the croped ohoto with the command below\n",
    "\n",
    "cv2.imwrite(\"\")"
   ]
  },
  {
   "cell_type": "code",
   "execution_count": null,
   "id": "aae99b13",
   "metadata": {},
   "outputs": [],
   "source": [
    "emoji=cv2.rectangle(emoji,(350,170),(190,320),(40,133,57),2\n",
    "                    \n",
    "emoji=emoji[170:320,190:350]"
   ]
  },
  {
   "cell_type": "markdown",
   "id": "1e4d85d6",
   "metadata": {},
   "source": [
    "# new photo"
   ]
  },
  {
   "cell_type": "markdown",
   "id": "80399b0b",
   "metadata": {},
   "source": [
    "now its time to put the croped poto on the refernce photo.for this we want to combine the coordinates of the reference photo \n",
    "with the cropped poto and this way the cropped photo fall on our referencce photo\n",
    "\n",
    "image[170:320,190:350]=emoji\n",
    "\n",
    "and now we display our new photo with the following command.\n"
   ]
  },
  {
   "cell_type": "code",
   "execution_count": null,
   "id": "dc8e5ed1",
   "metadata": {},
   "outputs": [],
   "source": [
    "cv2.imwrite((\"\"),image)\n",
    "\n",
    "cv2.imshow('new photo',image)\n",
    "\n",
    "cv2.waitkey(0)\n",
    "\n",
    "cv2.destroyAllwindows()"
   ]
  },
  {
   "cell_type": "code",
   "execution_count": null,
   "id": "74225cf7",
   "metadata": {},
   "outputs": [],
   "source": [
    " name  length   width\n",
    "---------------------\n",
    "smail  450      600  \n",
    "sad    450      600\n",
    "normal 450      600"
   ]
  },
  {
   "cell_type": "markdown",
   "id": "6b84f87a",
   "metadata": {},
   "source": [
    "# good bye 😊"
   ]
  },
  {
   "cell_type": "code",
   "execution_count": null,
   "id": "ef31aeb4",
   "metadata": {},
   "outputs": [],
   "source": []
  }
 ],
 "metadata": {
  "kernelspec": {
   "display_name": "Python 3 (ipykernel)",
   "language": "python",
   "name": "python3"
  },
  "language_info": {
   "codemirror_mode": {
    "name": "ipython",
    "version": 3
   },
   "file_extension": ".py",
   "mimetype": "text/x-python",
   "name": "python",
   "nbconvert_exporter": "python",
   "pygments_lexer": "ipython3",
   "version": "3.11.5"
  }
 },
 "nbformat": 4,
 "nbformat_minor": 5
}
